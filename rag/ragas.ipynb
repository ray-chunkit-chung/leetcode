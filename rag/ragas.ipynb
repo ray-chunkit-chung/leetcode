{
 "cells": [
  {
   "cell_type": "code",
   "execution_count": 28,
   "metadata": {},
   "outputs": [
    {
     "data": {
      "text/plain": [
       "True"
      ]
     },
     "execution_count": 28,
     "metadata": {},
     "output_type": "execute_result"
    }
   ],
   "source": [
    "from datasets import Dataset\n",
    "from ragas.metrics import (\n",
    "    answer_relevancy,\n",
    "    faithfulness,\n",
    "    context_recall,\n",
    "    context_precision,\n",
    "    answer_correctness,\n",
    "    answer_similarity   \n",
    ")\n",
    "\n",
    "import pandas as pd\n",
    "import ragas\n",
    "\n",
    "from dotenv import load_dotenv\n",
    "load_dotenv()"
   ]
  },
  {
   "cell_type": "code",
   "execution_count": 26,
   "metadata": {},
   "outputs": [
    {
     "data": {
      "text/html": [
       "<div>\n",
       "<style scoped>\n",
       "    .dataframe tbody tr th:only-of-type {\n",
       "        vertical-align: middle;\n",
       "    }\n",
       "\n",
       "    .dataframe tbody tr th {\n",
       "        vertical-align: top;\n",
       "    }\n",
       "\n",
       "    .dataframe thead th {\n",
       "        text-align: right;\n",
       "    }\n",
       "</style>\n",
       "<table border=\"1\" class=\"dataframe\">\n",
       "  <thead>\n",
       "    <tr style=\"text-align: right;\">\n",
       "      <th></th>\n",
       "      <th>question</th>\n",
       "      <th>answer</th>\n",
       "      <th>contexts</th>\n",
       "      <th>ground_truth</th>\n",
       "    </tr>\n",
       "  </thead>\n",
       "  <tbody>\n",
       "    <tr>\n",
       "      <th>0</th>\n",
       "      <td>what character did natalie portman play in sta...</td>\n",
       "      <td>['Padmé Amidala']</td>\n",
       "      <td>[Padmé Amidala]</td>\n",
       "      <td>['Padmé Amidala']</td>\n",
       "    </tr>\n",
       "    <tr>\n",
       "      <th>1</th>\n",
       "      <td>what state does selena gomez?</td>\n",
       "      <td>['New York City']</td>\n",
       "      <td>[New York City]</td>\n",
       "      <td>['New York City']</td>\n",
       "    </tr>\n",
       "    <tr>\n",
       "      <th>2</th>\n",
       "      <td>what country is the grand bahama island in?</td>\n",
       "      <td>['Bahamas']</td>\n",
       "      <td>[Bahamas]</td>\n",
       "      <td>['Bahamas']</td>\n",
       "    </tr>\n",
       "    <tr>\n",
       "      <th>3</th>\n",
       "      <td>what character did john noble play in lord of ...</td>\n",
       "      <td>['Denethor II']</td>\n",
       "      <td>[Denethor II]</td>\n",
       "      <td>['Denethor II']</td>\n",
       "    </tr>\n",
       "    <tr>\n",
       "      <th>4</th>\n",
       "      <td>who does joakim noah play for?</td>\n",
       "      <td>['Chicago Bulls']</td>\n",
       "      <td>[Chicago Bulls]</td>\n",
       "      <td>['Chicago Bulls']</td>\n",
       "    </tr>\n",
       "  </tbody>\n",
       "</table>\n",
       "</div>"
      ],
      "text/plain": [
       "                                            question             answer  \\\n",
       "0  what character did natalie portman play in sta...  ['Padmé Amidala']   \n",
       "1                      what state does selena gomez?  ['New York City']   \n",
       "2        what country is the grand bahama island in?        ['Bahamas']   \n",
       "3  what character did john noble play in lord of ...    ['Denethor II']   \n",
       "4                     who does joakim noah play for?  ['Chicago Bulls']   \n",
       "\n",
       "          contexts       ground_truth  \n",
       "0  [Padmé Amidala]  ['Padmé Amidala']  \n",
       "1  [New York City]  ['New York City']  \n",
       "2        [Bahamas]        ['Bahamas']  \n",
       "3    [Denethor II]    ['Denethor II']  \n",
       "4  [Chicago Bulls]  ['Chicago Bulls']  "
      ]
     },
     "execution_count": 26,
     "metadata": {},
     "output_type": "execute_result"
    }
   ],
   "source": [
    "df = pd.read_csv('data/kendra-data.csv').head()\n",
    "df['qId'] = df['answers'].map(lambda x: eval(x))\n",
    "df['ground_truth'] = df['answers']\n",
    "df.columns = ['question', 'answer', 'contexts', 'ground_truth']\n",
    "df.head()"
   ]
  },
  {
   "cell_type": "code",
   "execution_count": 29,
   "metadata": {},
   "outputs": [
    {
     "name": "stderr",
     "output_type": "stream",
     "text": [
      "Evaluating: 100%|██████████| 30/30 [00:10<00:00,  2.95it/s]\n"
     ]
    }
   ],
   "source": [
    "rag_eval_dataset = Dataset.from_pandas(df)\n",
    "result = ragas.evaluate(\n",
    "    rag_eval_dataset,\n",
    "    metrics=[\n",
    "        context_precision,\n",
    "        faithfulness,\n",
    "        answer_relevancy,\n",
    "        context_recall,\n",
    "        answer_correctness,\n",
    "        answer_similarity\n",
    "    ],\n",
    ")"
   ]
  },
  {
   "cell_type": "code",
   "execution_count": 30,
   "metadata": {},
   "outputs": [
    {
     "data": {
      "text/plain": [
       "{'context_precision': 0.8000, 'faithfulness': 0.2000, 'answer_relevancy': 0.7795, 'context_recall': 1.0000, 'answer_correctness': 1.0000, 'answer_similarity': 1.0000}"
      ]
     },
     "execution_count": 30,
     "metadata": {},
     "output_type": "execute_result"
    }
   ],
   "source": [
    "result"
   ]
  },
  {
   "cell_type": "code",
   "execution_count": null,
   "metadata": {},
   "outputs": [],
   "source": []
  }
 ],
 "metadata": {
  "kernelspec": {
   "display_name": ".venv",
   "language": "python",
   "name": "python3"
  },
  "language_info": {
   "codemirror_mode": {
    "name": "ipython",
    "version": 3
   },
   "file_extension": ".py",
   "mimetype": "text/x-python",
   "name": "python",
   "nbconvert_exporter": "python",
   "pygments_lexer": "ipython3",
   "version": "3.11.9"
  }
 },
 "nbformat": 4,
 "nbformat_minor": 2
}
