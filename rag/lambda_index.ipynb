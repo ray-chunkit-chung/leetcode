{
 "cells": [
  {
   "cell_type": "code",
   "execution_count": 1,
   "metadata": {},
   "outputs": [
    {
     "data": {
      "text/plain": [
       "True"
      ]
     },
     "execution_count": 1,
     "metadata": {},
     "output_type": "execute_result"
    }
   ],
   "source": [
    "from dotenv import load_dotenv\n",
    "load_dotenv()"
   ]
  },
  {
   "cell_type": "code",
   "execution_count": 2,
   "metadata": {},
   "outputs": [
    {
     "name": "stdout",
     "output_type": "stream",
     "text": [
      "The title of this document is \"The New England Journal of Medicine.\"\n"
     ]
    }
   ],
   "source": [
    "from llama_index.core import VectorStoreIndex, SimpleDirectoryReader\n",
    "\n",
    "documents = SimpleDirectoryReader(\"data\").load_data()\n",
    "index = VectorStoreIndex.from_documents(documents)\n",
    "query_engine = index.as_query_engine()\n",
    "response = query_engine.query(\"What is the title of this document?\")\n",
    "print(response)"
   ]
  },
  {
   "cell_type": "code",
   "execution_count": 3,
   "metadata": {},
   "outputs": [
    {
     "name": "stdout",
     "output_type": "stream",
     "text": [
      "H.J.L.H., D.C.W., B.V.S., M.L., C.D.S., A.-M.L., R.C.-R., G.M.C., T.G., F.-F.H., J.F.E.M., J.J.V.M., P.R., R.D.T.\n"
     ]
    }
   ],
   "source": [
    "response = query_engine.query(\"What are the authors of this document?\")\n",
    "print(response)"
   ]
  },
  {
   "cell_type": "code",
   "execution_count": 4,
   "metadata": {},
   "outputs": [
    {
     "name": "stdout",
     "output_type": "stream",
     "text": [
      "Patients with chronic kidney disease, regardless of the presence or absence of diabetes, have a high risk of adverse kidney outcomes.\n"
     ]
    }
   ],
   "source": [
    "response = query_engine.query(\"Who have a high risk of adverse kidney?\")\n",
    "print(response)"
   ]
  },
  {
   "cell_type": "code",
   "execution_count": 5,
   "metadata": {},
   "outputs": [
    {
     "name": "stdout",
     "output_type": "stream",
     "text": [
      "All participants who had undergone randomization and received at least one dose of dapagliflozin or placebo are included in the analysis.\n"
     ]
    }
   ],
   "source": [
    "response = query_engine.query(\"How many participants are randomly assigned?\")\n",
    "print(response)"
   ]
  },
  {
   "cell_type": "markdown",
   "metadata": {},
   "source": [
    "# QA pair extraction from a given text"
   ]
  },
  {
   "cell_type": "code",
   "execution_count": 6,
   "metadata": {},
   "outputs": [],
   "source": [
    "from llama_index.llms.openai import OpenAI\n",
    "from llama_index.core.schema import MetadataMode\n",
    "\n",
    "from llama_index.core.extractors import (\n",
    "    SummaryExtractor,\n",
    "    QuestionsAnsweredExtractor,\n",
    ")\n",
    "\n",
    "llm = OpenAI(temperature=0.0, model=\"gpt-4o-mini\")\n",
    "# llm = OpenAI(temperature=0.0, model=\"gpt-4o-mini\", max_tokens=512)\n"
   ]
  },
  {
   "cell_type": "code",
   "execution_count": 7,
   "metadata": {},
   "outputs": [],
   "source": [
    "documents_txt = SimpleDirectoryReader(\"data/txt\").load_data()"
   ]
  },
  {
   "cell_type": "code",
   "execution_count": 68,
   "metadata": {},
   "outputs": [],
   "source": [
    "custom_prompt_template = \"\"\"\\\n",
    "Here is the context:\n",
    "{context_str}\n",
    "\n",
    "Given the contextual information, \\\n",
    "generate {num_questions} questions this context can provide \\\n",
    "specific answers to which are unlikely to be found elsewhere.\n",
    "\n",
    "Higher-level summaries of surrounding context may be provided \\\n",
    "as well. Try using these summaries to generate better questions \\\n",
    "that this context can answer.\n",
    "\n",
    "Please return the question-answer pairs, summary, key topics, entities, and findings in json format.\n",
    "\"\"\"\n",
    "\n",
    "\n",
    "extractors_1 = [\n",
    "\n",
    "    QuestionsAnsweredExtractor(\n",
    "        questions=3,\n",
    "        llm=llm,\n",
    "        metadata_mode=MetadataMode.EMBED,\n",
    "        prompt_template=custom_prompt_template,\n",
    "    ),\n",
    "\n",
    "]\n",
    "\n",
    "\n",
    "extractors_2 = [\n",
    "\n",
    "    SummaryExtractor(summaries=[\"prev\", \"self\", \"next\"], llm=llm),\n",
    "\n",
    "    QuestionsAnsweredExtractor(\n",
    "\n",
    "        questions=3,\n",
    "        llm=llm,\n",
    "        metadata_mode=MetadataMode.EMBED,\n",
    "        prompt_template=custom_prompt_template,\n",
    "\n",
    "    ),\n",
    "\n",
    "]"
   ]
  },
  {
   "cell_type": "code",
   "execution_count": 69,
   "metadata": {},
   "outputs": [
    {
     "name": "stderr",
     "output_type": "stream",
     "text": [
      "100%|██████████| 2/2 [00:04<00:00,  2.39s/it]\n",
      "100%|██████████| 2/2 [00:04<00:00,  2.35s/it]\n"
     ]
    }
   ],
   "source": [
    "import nest_asyncio\n",
    "\n",
    "nest_asyncio.apply()\n",
    "\n",
    "from llama_index.core.node_parser import TokenTextSplitter\n",
    "from llama_index.core.ingestion import IngestionPipeline\n",
    "node_parser = TokenTextSplitter(\n",
    "    separator=\" \", chunk_size=512, chunk_overlap=128\n",
    ")\n",
    "nodes = node_parser.get_nodes_from_documents(documents_txt)\n",
    "\n",
    "\n",
    "# process nodes with metadata extractors\n",
    "# pipeline = IngestionPipeline(transformations=[node_parser, *extractors_1])\n",
    "pipeline = IngestionPipeline(transformations=[node_parser, *extractors_2])\n",
    "\n",
    "nodes_1 = pipeline.run(nodes=nodes, in_place=False)"
   ]
  },
  {
   "cell_type": "code",
   "execution_count": 70,
   "metadata": {},
   "outputs": [
    {
     "name": "stdout",
     "output_type": "stream",
     "text": [
      "[Excerpt from document]\n",
      "file_path: c:\\Users\\ray\\Desktop\\src\\leetcode\\rag\\data\\txt\\medical.txt\n",
      "file_name: medical.txt\n",
      "file_type: text/plain\n",
      "file_size: 2370\n",
      "creation_date: 2024-09-12\n",
      "last_modified_date: 2024-09-12\n",
      "next_section_summary: The section discusses the effects of dapagliflozin, a medication, on patients with chronic kidney disease (CKD). Key findings include:\n",
      "\n",
      "- **Hazard Ratios**: \n",
      "  - The hazard ratio for renal causes was 0.56, indicating a significant reduction in risk (95% CI, 0.45 to 0.68; P<0.001).\n",
      "  - The hazard ratio for a composite outcome of death from cardiovascular causes or hospitalization for heart failure was 0.71 (95% CI, 0.55 to 0.92; P=0.009).\n",
      "  \n",
      "- **Mortality Rates**: \n",
      "  - Death occurred in 4.7% of participants in the dapagliflozin group compared to 6.8% in the placebo group, with a hazard ratio of 0.69 (95% CI, 0.53 to 0.88; P=0.004).\n",
      "\n",
      "- **Patient Demographics**: \n",
      "  - The effects of dapagliflozin were consistent in both participants with type 2 diabetes and those without.\n",
      "\n",
      "- **Safety Profile**: \n",
      "  - The known safety profile of dapagliflozin was confirmed in the study.\n",
      "\n",
      "- **Conclusion**: \n",
      "  - Dapagliflozin significantly reduced the risk of a composite outcome involving a sustained decline in estimated GFR, end-stage kidney disease, or death from renal or cardiovascular causes in patients with CKD, regardless of diabetes status.\n",
      "\n",
      "- **Funding and Trial Information**: \n",
      "  - The study was funded by AstraZeneca and is registered under ClinicalTrials.gov number NCT03036150. \n",
      "\n",
      "Overall, the section highlights the efficacy and safety of dapagliflozin in managing chronic kidney disease and its associated risks.\n",
      "section_summary: **Summary:**\n",
      "\n",
      "The section discusses a clinical trial investigating the effects of dapagliflozin on patients with chronic kidney disease (CKD). Key topics and entities include:\n",
      "\n",
      "1. **Condition**: Chronic Kidney Disease (CKD) - Patients with CKD are at high risk for adverse kidney and cardiovascular outcomes.\n",
      "\n",
      "2. **Intervention**: Dapagliflozin - A medication administered at a dosage of 10 mg once daily.\n",
      "\n",
      "3. **Study Design**: \n",
      "   - Participants: 4304 individuals with an estimated glomerular filtration rate (GFR) of 25 to 75 ml/min/1.73 m² and a urinary albumin-to-creatinine ratio of 200 to 5000.\n",
      "   - Randomized assignment to either dapagliflozin or placebo.\n",
      "\n",
      "4. **Primary Outcome**: A composite measure including a sustained decline in GFR of at least 50%, end-stage kidney disease, or death from renal or cardiovascular causes.\n",
      "\n",
      "5. **Results**: \n",
      "   - The trial was stopped early due to efficacy.\n",
      "   - Over a median follow-up of 2.4 years, the dapagliflozin group had a lower incidence of primary outcome events (9.2%) compared to the placebo group (14.5%), with a hazard ratio of 0.61.\n",
      "   - Significant reductions were also observed in composite outcomes related to renal and cardiovascular events.\n",
      "   - Mortality rates were lower in the dapagliflozin group (4.7%) compared to the placebo group (6.8%).\n",
      "\n",
      "6. **Statistical Significance**: Results were statistically significant with P-values less than 0.001 for primary outcomes and P=0.009 for cardiovascular outcomes.\n",
      "\n",
      "This study highlights the potential benefits of dapagliflozin in improving outcomes for patients with CKD.\n",
      "questions_this_excerpt_can_answer: ```json\n",
      "{\n",
      "  \"summary\": \"The section discusses a clinical trial investigating the effects of dapagliflozin on patients with chronic kidney disease (CKD). Key findings indicate that dapagliflozin significantly reduces the risk of adverse kidney and cardiovascular outcomes in CKD patients, regardless of diabetes status. The study was stopped early due to efficacy, showing lower incidence rates of primary outcome events in the dapagliflozin group compared to placebo.\",\n",
      "  \"key_topics\": [\n",
      "    \"Chronic Kidney Disease (CKD)\",\n",
      "    \"Dapagliflozin\",\n",
      "    \"Clinical Trial\",\n",
      "    \"Efficacy\",\n",
      "    \"Mortality Rates\",\n",
      "    \"Safety Profile\"\n",
      "  ],\n",
      "  \"entities\": [\n",
      "    \"Dapagliflozin\",\n",
      "    \"Chronic Kidney Disease (CKD)\",\n",
      "    \"AstraZeneca\",\n",
      "    \"ClinicalTrials.gov NCT03036150\"\n",
      "  ],\n",
      "  \"findings\": [\n",
      "    \"Dapagliflozin significantly reduced the risk of a composite outcome involving a sustained decline in estimated GFR, end-stage kidney disease, or death from renal or cardiovascular causes.\",\n",
      "    \"The trial was stopped early due to efficacy, with a lower incidence of primary outcome events in the dapagliflozin group (9.2%) compared to the placebo group (14.5%).\",\n",
      "    \"Mortality rates were lower in the dapagliflozin group (4.7%) compared to the placebo group (6.8%).\"\n",
      "  ],\n",
      "  \"questions\": [\n",
      "    {\n",
      "      \"question\": \"What was the primary outcome measured in the clinical trial involving dapagliflozin and CKD patients?\",\n",
      "      \"answer\": \"The primary outcome was a composite of a sustained decline in the estimated GFR of at least 50%, end-stage kidney disease, or death from renal or cardiovascular causes.\"\n",
      "    },\n",
      "    {\n",
      "      \"question\": \"What were the hazard ratios for renal causes and cardiovascular outcomes in the dapagliflozin group compared to the placebo group?\",\n",
      "      \"answer\": \"The hazard ratio for renal causes was 0.56 (95% CI, 0.45 to 0.68; P<0.001) and for the composite of death from cardiovascular causes or hospitalization for heart failure was 0.71 (95% CI, 0.55 to 0.92; P=0.009).\"\n",
      "    },\n",
      "    {\n",
      "      \"question\": \"How did the mortality rates compare between the dapagliflozin group and the placebo group in the study?\",\n",
      "      \"answer\": \"Death occurred in 4.7% of participants in the dapagliflozin group compared to 6.8% in the placebo group, with a hazard ratio of 0.69 (95% CI, 0.53 to 0.88; P=0.004).\"\n",
      "    }\n",
      "  ]\n",
      "}\n",
      "```\n",
      "Excerpt:\n",
      "-----\n",
      "Dapagliflozin in Patients with Chronic Kidney Disease\n",
      "\n",
      "BACKGROUND\n",
      "Patients with chronic kidney disease have a high risk of adverse kidney and cardiovascular outcomes. The effect of dapagliflozin in patients with chronic kidney \n",
      "disease, with or without type 2 diabetes, is not known\n",
      "\n",
      "\n",
      "METHODS\n",
      "We randomly assigned 4304 participants with an estimated glomerular filtration \n",
      "rate (GFR) of 25 to 75 ml per minute per 1.73 m2\n",
      " of body-surface area and a urinary albumin-to-creatinine ratio (with albumin measured in milligrams and creatinine measured in grams) of 200 to 5000 to receive dapagliflozin (10 mg once \n",
      "daily) or placebo. The primary outcome was a composite of a sustained decline in \n",
      "the estimated GFR of at least 50%, end-stage kidney disease, or death from renal \n",
      "or cardiovascular causes\n",
      "\n",
      "\n",
      "RESULTS\n",
      "The independent data monitoring committee recommended stopping the trial \n",
      "because of efficacy. Over a median of 2.4 years, a primary outcome event occurred \n",
      "in 197 of 2152 participants (9.2%) in the dapagliflozin group and 312 of 2152 (14.5%) in the placebo group (hazard ratio, 0.61; 95% confidence interval \n",
      "[CI], 0.51 to 0.72; P<0.001; number needed to treat to prevent one primary outcome \n",
      "event, 19 [95% CI, 15 to 27]). The hazard ratio for the composite of a sustained \n",
      "decline in the estimated GFR of at least 50%, end-stage kidney disease, or death \n",
      "from renal causes was 0.56 (95% CI, 0.45 to 0.68; P<0.001), and the hazard ratio \n",
      "for the composite of death from cardiovascular causes or hospitalization for heart \n",
      "failure was 0.71 (95% CI, 0.55 to 0.92; P=0.009). Death occurred in 101 participants \n",
      "(4.7%) in the dapagliflozin group and 146 participants (6.8%) in the placebo group \n",
      "(hazard ratio, 0.69; 95% CI, 0.53 to\n",
      "-----\n"
     ]
    }
   ],
   "source": [
    "print(nodes_1[0].get_content(metadata_mode=\"all\"))"
   ]
  },
  {
   "cell_type": "code",
   "execution_count": 71,
   "metadata": {},
   "outputs": [
    {
     "name": "stdout",
     "output_type": "stream",
     "text": [
      "[Excerpt from document]\n",
      "file_path: c:\\Users\\ray\\Desktop\\src\\leetcode\\rag\\data\\txt\\medical.txt\n",
      "file_name: medical.txt\n",
      "file_type: text/plain\n",
      "file_size: 2370\n",
      "creation_date: 2024-09-12\n",
      "last_modified_date: 2024-09-12\n",
      "prev_section_summary: **Summary:**\n",
      "\n",
      "The section discusses a clinical trial investigating the effects of dapagliflozin on patients with chronic kidney disease (CKD). Key topics and entities include:\n",
      "\n",
      "1. **Condition**: Chronic Kidney Disease (CKD) - Patients with CKD are at high risk for adverse kidney and cardiovascular outcomes.\n",
      "\n",
      "2. **Intervention**: Dapagliflozin - A medication administered at a dosage of 10 mg once daily.\n",
      "\n",
      "3. **Study Design**: \n",
      "   - Participants: 4304 individuals with an estimated glomerular filtration rate (GFR) of 25 to 75 ml/min/1.73 m² and a urinary albumin-to-creatinine ratio of 200 to 5000.\n",
      "   - Randomized assignment to either dapagliflozin or placebo.\n",
      "\n",
      "4. **Primary Outcome**: A composite measure including a sustained decline in GFR of at least 50%, end-stage kidney disease, or death from renal or cardiovascular causes.\n",
      "\n",
      "5. **Results**: \n",
      "   - The trial was stopped early due to efficacy.\n",
      "   - Over a median follow-up of 2.4 years, the dapagliflozin group had a lower incidence of primary outcome events (9.2%) compared to the placebo group (14.5%), with a hazard ratio of 0.61.\n",
      "   - Significant reductions were also observed in composite outcomes related to renal and cardiovascular events.\n",
      "   - Mortality rates were lower in the dapagliflozin group (4.7%) compared to the placebo group (6.8%).\n",
      "\n",
      "6. **Statistical Significance**: Results were statistically significant with P-values less than 0.001 for primary outcomes and P=0.009 for cardiovascular outcomes.\n",
      "\n",
      "This study highlights the potential benefits of dapagliflozin in improving outcomes for patients with CKD.\n",
      "section_summary: The section discusses the effects of dapagliflozin, a medication, on patients with chronic kidney disease (CKD). Key findings include:\n",
      "\n",
      "- **Hazard Ratios**: \n",
      "  - The hazard ratio for renal causes was 0.56, indicating a significant reduction in risk (95% CI, 0.45 to 0.68; P<0.001).\n",
      "  - The hazard ratio for a composite outcome of death from cardiovascular causes or hospitalization for heart failure was 0.71 (95% CI, 0.55 to 0.92; P=0.009).\n",
      "  \n",
      "- **Mortality Rates**: \n",
      "  - Death occurred in 4.7% of participants in the dapagliflozin group compared to 6.8% in the placebo group, with a hazard ratio of 0.69 (95% CI, 0.53 to 0.88; P=0.004).\n",
      "\n",
      "- **Patient Demographics**: \n",
      "  - The effects of dapagliflozin were consistent in both participants with type 2 diabetes and those without.\n",
      "\n",
      "- **Safety Profile**: \n",
      "  - The known safety profile of dapagliflozin was confirmed in the study.\n",
      "\n",
      "- **Conclusion**: \n",
      "  - Dapagliflozin significantly reduced the risk of a composite outcome involving a sustained decline in estimated GFR, end-stage kidney disease, or death from renal or cardiovascular causes in patients with CKD, regardless of diabetes status.\n",
      "\n",
      "- **Funding and Trial Information**: \n",
      "  - The study was funded by AstraZeneca and is registered under ClinicalTrials.gov number NCT03036150. \n",
      "\n",
      "Overall, the section highlights the efficacy and safety of dapagliflozin in managing chronic kidney disease and its associated risks.\n",
      "questions_this_excerpt_can_answer: ```json\n",
      "{\n",
      "  \"summary\": \"The section discusses the effects of dapagliflozin, a medication, on patients with chronic kidney disease (CKD). Key findings include significant reductions in the risk of renal and cardiovascular outcomes, confirmed safety profile, and consistent effects across different patient demographics.\",\n",
      "  \"key_topics\": [\n",
      "    \"Dapagliflozin\",\n",
      "    \"Chronic Kidney Disease (CKD)\",\n",
      "    \"Hazard Ratios\",\n",
      "    \"Mortality Rates\",\n",
      "    \"Patient Demographics\",\n",
      "    \"Safety Profile\",\n",
      "    \"Clinical Trial Funding\"\n",
      "  ],\n",
      "  \"entities\": [\n",
      "    \"Dapagliflozin\",\n",
      "    \"Chronic Kidney Disease (CKD)\",\n",
      "    \"AstraZeneca\",\n",
      "    \"ClinicalTrials.gov\",\n",
      "    \"NCT03036150\"\n",
      "  ],\n",
      "  \"findings\": [\n",
      "    {\n",
      "      \"finding\": \"The hazard ratio for renal causes was 0.56, indicating a significant reduction in risk.\",\n",
      "      \"statistical_significance\": \"P<0.001\"\n",
      "    },\n",
      "    {\n",
      "      \"finding\": \"The hazard ratio for composite outcomes of death from cardiovascular causes or hospitalization for heart failure was 0.71.\",\n",
      "      \"statistical_significance\": \"P=0.009\"\n",
      "    },\n",
      "    {\n",
      "      \"finding\": \"Mortality rates were lower in the dapagliflozin group (4.7%) compared to the placebo group (6.8%).\",\n",
      "      \"statistical_significance\": \"P=0.004\"\n",
      "    },\n",
      "    {\n",
      "      \"finding\": \"The effects of dapagliflozin were consistent in participants with and without type 2 diabetes.\"\n",
      "    },\n",
      "    {\n",
      "      \"finding\": \"The known safety profile of dapagliflozin was confirmed in the study.\"\n",
      "    }\n",
      "  ],\n",
      "  \"questions\": [\n",
      "    {\n",
      "      \"question\": \"What was the hazard ratio for renal causes in patients taking dapagliflozin compared to placebo?\",\n",
      "      \"answer\": \"The hazard ratio for renal causes was 0.56 (95% CI, 0.45 to 0.68; P<0.001).\"\n",
      "    },\n",
      "    {\n",
      "      \"question\": \"How did the mortality rates compare between the dapagliflozin group and the placebo group?\",\n",
      "      \"answer\": \"Death occurred in 4.7% of participants in the dapagliflozin group compared to 6.8% in the placebo group.\"\n",
      "    },\n",
      "    {\n",
      "      \"question\": \"Was the safety profile of dapagliflozin confirmed in the study?\",\n",
      "      \"answer\": \"Yes, the known safety profile of dapagliflozin was confirmed in the study.\"\n",
      "    }\n",
      "  ]\n",
      "}\n",
      "```\n",
      "Excerpt:\n",
      "-----\n",
      "renal causes was 0.56 (95% CI, 0.45 to 0.68; P<0.001), and the hazard ratio \n",
      "for the composite of death from cardiovascular causes or hospitalization for heart \n",
      "failure was 0.71 (95% CI, 0.55 to 0.92; P=0.009). Death occurred in 101 participants \n",
      "(4.7%) in the dapagliflozin group and 146 participants (6.8%) in the placebo group \n",
      "(hazard ratio, 0.69; 95% CI, 0.53 to 0.88; P=0.004). The effects of dapagliflozin \n",
      "were similar in participants with type 2 diabetes and in those without type 2 diabetes. The known safety profile of dapagliflozin was confirmed.\n",
      "\n",
      "\n",
      "CONCLUSION\n",
      "Among patients with chronic kidney disease, regardless of the presence or absence \n",
      "of diabetes, the risk of a composite of a sustained decline in the estimated GFR of \n",
      "at least 50%, end-stage kidney disease, or death from renal or cardiovascular causes \n",
      "was significantly lower with dapagliflozin than with placebo. (Funded by AstraZeneca; DAPA-CKD ClinicalTrials.gov number, NCT03036150.)\n",
      "-----\n"
     ]
    }
   ],
   "source": [
    "print(nodes_1[1].get_content(metadata_mode=\"all\"))"
   ]
  },
  {
   "cell_type": "code",
   "execution_count": 72,
   "metadata": {},
   "outputs": [
    {
     "data": {
      "text/plain": [
       "2"
      ]
     },
     "execution_count": 72,
     "metadata": {},
     "output_type": "execute_result"
    }
   ],
   "source": [
    "len(nodes_1)"
   ]
  },
  {
   "cell_type": "code",
   "execution_count": null,
   "metadata": {},
   "outputs": [],
   "source": []
  },
  {
   "cell_type": "code",
   "execution_count": null,
   "metadata": {},
   "outputs": [],
   "source": []
  }
 ],
 "metadata": {
  "kernelspec": {
   "display_name": "Python 3",
   "language": "python",
   "name": "python3"
  },
  "language_info": {
   "codemirror_mode": {
    "name": "ipython",
    "version": 3
   },
   "file_extension": ".py",
   "mimetype": "text/x-python",
   "name": "python",
   "nbconvert_exporter": "python",
   "pygments_lexer": "ipython3",
   "version": "3.11.9"
  }
 },
 "nbformat": 4,
 "nbformat_minor": 2
}
