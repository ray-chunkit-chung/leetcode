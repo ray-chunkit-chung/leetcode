{
 "cells": [
  {
   "cell_type": "code",
   "execution_count": 1,
   "metadata": {},
   "outputs": [],
   "source": [
    "import pandas as pd"
   ]
  },
  {
   "cell_type": "code",
   "execution_count": 2,
   "metadata": {},
   "outputs": [],
   "source": [
    "df = pd.read_json(\"trainmodel.json\")"
   ]
  },
  {
   "cell_type": "code",
   "execution_count": 3,
   "metadata": {},
   "outputs": [
    {
     "data": {
      "text/html": [
       "<div>\n",
       "<style scoped>\n",
       "    .dataframe tbody tr th:only-of-type {\n",
       "        vertical-align: middle;\n",
       "    }\n",
       "\n",
       "    .dataframe tbody tr th {\n",
       "        vertical-align: top;\n",
       "    }\n",
       "\n",
       "    .dataframe thead th {\n",
       "        text-align: right;\n",
       "    }\n",
       "</style>\n",
       "<table border=\"1\" class=\"dataframe\">\n",
       "  <thead>\n",
       "    <tr style=\"text-align: right;\">\n",
       "      <th></th>\n",
       "      <th>qId</th>\n",
       "      <th>answers</th>\n",
       "      <th>qText</th>\n",
       "    </tr>\n",
       "  </thead>\n",
       "  <tbody>\n",
       "    <tr>\n",
       "      <th>0</th>\n",
       "      <td>wqr000001</td>\n",
       "      <td>[Padmé Amidala]</td>\n",
       "      <td>what character did natalie portman play in sta...</td>\n",
       "    </tr>\n",
       "    <tr>\n",
       "      <th>1</th>\n",
       "      <td>wqr000002</td>\n",
       "      <td>[New York City]</td>\n",
       "      <td>what state does selena gomez?</td>\n",
       "    </tr>\n",
       "    <tr>\n",
       "      <th>2</th>\n",
       "      <td>wqr000003</td>\n",
       "      <td>[Bahamas]</td>\n",
       "      <td>what country is the grand bahama island in?</td>\n",
       "    </tr>\n",
       "    <tr>\n",
       "      <th>3</th>\n",
       "      <td>wqr000005</td>\n",
       "      <td>[Denethor II]</td>\n",
       "      <td>what character did john noble play in lord of ...</td>\n",
       "    </tr>\n",
       "    <tr>\n",
       "      <th>4</th>\n",
       "      <td>wqr000006</td>\n",
       "      <td>[Chicago Bulls]</td>\n",
       "      <td>who does joakim noah play for?</td>\n",
       "    </tr>\n",
       "  </tbody>\n",
       "</table>\n",
       "</div>"
      ],
      "text/plain": [
       "         qId          answers  \\\n",
       "0  wqr000001  [Padmé Amidala]   \n",
       "1  wqr000002  [New York City]   \n",
       "2  wqr000003        [Bahamas]   \n",
       "3  wqr000005    [Denethor II]   \n",
       "4  wqr000006  [Chicago Bulls]   \n",
       "\n",
       "                                               qText  \n",
       "0  what character did natalie portman play in sta...  \n",
       "1                      what state does selena gomez?  \n",
       "2        what country is the grand bahama island in?  \n",
       "3  what character did john noble play in lord of ...  \n",
       "4                     who does joakim noah play for?  "
      ]
     },
     "execution_count": 3,
     "metadata": {},
     "output_type": "execute_result"
    }
   ],
   "source": [
    "df.head()"
   ]
  },
  {
   "cell_type": "code",
   "execution_count": 4,
   "metadata": {},
   "outputs": [
    {
     "data": {
      "text/html": [
       "<div>\n",
       "<style scoped>\n",
       "    .dataframe tbody tr th:only-of-type {\n",
       "        vertical-align: middle;\n",
       "    }\n",
       "\n",
       "    .dataframe tbody tr th {\n",
       "        vertical-align: top;\n",
       "    }\n",
       "\n",
       "    .dataframe thead th {\n",
       "        text-align: right;\n",
       "    }\n",
       "</style>\n",
       "<table border=\"1\" class=\"dataframe\">\n",
       "  <thead>\n",
       "    <tr style=\"text-align: right;\">\n",
       "      <th></th>\n",
       "      <th>qText</th>\n",
       "      <th>answers</th>\n",
       "      <th>qId</th>\n",
       "    </tr>\n",
       "  </thead>\n",
       "  <tbody>\n",
       "    <tr>\n",
       "      <th>0</th>\n",
       "      <td>what character did natalie portman play in sta...</td>\n",
       "      <td>[Padmé Amidala]</td>\n",
       "      <td>https://wqr000001.co.jp</td>\n",
       "    </tr>\n",
       "    <tr>\n",
       "      <th>1</th>\n",
       "      <td>what state does selena gomez?</td>\n",
       "      <td>[New York City]</td>\n",
       "      <td>https://wqr000002.co.jp</td>\n",
       "    </tr>\n",
       "    <tr>\n",
       "      <th>2</th>\n",
       "      <td>what country is the grand bahama island in?</td>\n",
       "      <td>[Bahamas]</td>\n",
       "      <td>https://wqr000003.co.jp</td>\n",
       "    </tr>\n",
       "    <tr>\n",
       "      <th>3</th>\n",
       "      <td>what character did john noble play in lord of ...</td>\n",
       "      <td>[Denethor II]</td>\n",
       "      <td>https://wqr000005.co.jp</td>\n",
       "    </tr>\n",
       "    <tr>\n",
       "      <th>4</th>\n",
       "      <td>who does joakim noah play for?</td>\n",
       "      <td>[Chicago Bulls]</td>\n",
       "      <td>https://wqr000006.co.jp</td>\n",
       "    </tr>\n",
       "  </tbody>\n",
       "</table>\n",
       "</div>"
      ],
      "text/plain": [
       "                                               qText          answers  \\\n",
       "0  what character did natalie portman play in sta...  [Padmé Amidala]   \n",
       "1                      what state does selena gomez?  [New York City]   \n",
       "2        what country is the grand bahama island in?        [Bahamas]   \n",
       "3  what character did john noble play in lord of ...    [Denethor II]   \n",
       "4                     who does joakim noah play for?  [Chicago Bulls]   \n",
       "\n",
       "                       qId  \n",
       "0  https://wqr000001.co.jp  \n",
       "1  https://wqr000002.co.jp  \n",
       "2  https://wqr000003.co.jp  \n",
       "3  https://wqr000005.co.jp  \n",
       "4  https://wqr000006.co.jp  "
      ]
     },
     "execution_count": 4,
     "metadata": {},
     "output_type": "execute_result"
    }
   ],
   "source": [
    "df[\"qId\"] = \"https://\" + df[\"qId\"] + \".co.jp\"\n",
    "df = df[[\"qText\", \"answers\", \"qId\"]]\n",
    "df.head()"
   ]
  },
  {
   "cell_type": "code",
   "execution_count": 6,
   "metadata": {},
   "outputs": [],
   "source": [
    "df.to_csv(\"kendra-data.csv\", index=False)"
   ]
  },
  {
   "cell_type": "code",
   "execution_count": null,
   "metadata": {},
   "outputs": [],
   "source": []
  }
 ],
 "metadata": {
  "kernelspec": {
   "display_name": ".venv",
   "language": "python",
   "name": "python3"
  },
  "language_info": {
   "name": "python",
   "version": "3.11.9"
  }
 },
 "nbformat": 4,
 "nbformat_minor": 2
}
