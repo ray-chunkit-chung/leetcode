{
 "cells": [
  {
   "cell_type": "markdown",
   "metadata": {},
   "source": [
    "# reference\n",
    "\n",
    "https://aws.amazon.com/blogs/machine-learning/build-an-intelligent-search-solution-with-automated-content-enrichment/\n",
    "\n",
    "\n",
    "https://aws.amazon.com/blogs/machine-learning/augment-search-with-metadata-by-chaining-amazon-textract-amazon-comprehend-and-amazon-kendra/\n",
    "\n"
   ]
  },
  {
   "cell_type": "code",
   "execution_count": null,
   "metadata": {},
   "outputs": [],
   "source": [
    "import boto3\n",
    "\n",
    "KENDRA_REGION: str = \"ap-southeast-2\"\n",
    "KENDRA_INDEX: str = \"0ee3a3ab-e4eb-4820-bd79-50ba88d48c21\""
   ]
  },
  {
   "cell_type": "code",
   "execution_count": 47,
   "metadata": {},
   "outputs": [],
   "source": [
    "kendra_client = boto3.client(\"kendra\", KENDRA_REGION)\n",
    "\n",
    "query = \"Tell me some Star Wars character names please\""
   ]
  },
  {
   "cell_type": "code",
   "execution_count": 48,
   "metadata": {},
   "outputs": [],
   "source": [
    "# result: dict = kendra_client.retrieve(\n",
    "#     QueryText=query,\n",
    "#     IndexId=KENDRA_INDEX,\n",
    "#     PageSize=10,\n",
    "#     PageNumber=1,\n",
    "# )\n",
    "\n",
    "# chunks: list[str] = [retrieve_result[\"Content\"] for retrieve_result in result[\"ResultItems\"]]\n",
    "# chunks\n"
   ]
  },
  {
   "cell_type": "code",
   "execution_count": 49,
   "metadata": {},
   "outputs": [
    {
     "data": {
      "text/plain": [
       "[(\"['Qui-Gon Jinn']\",\n",
       "  \"what was liam neeson's character in star wars?\",\n",
       "  'https://wqr001053.co.jp'),\n",
       " (\"['Padmé Amidala']\",\n",
       "  'what character did natalie portman play in star wars?',\n",
       "  'https://wqr000001.co.jp'),\n",
       " (\"['James Earl Jones']\",\n",
       "  'who did the voice of darth vader in star wars?',\n",
       "  'https://wqr001305.co.jp'),\n",
       " (\"['Carrie Fisher']\",\n",
       "  'who played princess leia from star wars?',\n",
       "  'https://wqr001181.co.jp')]"
      ]
     },
     "execution_count": 49,
     "metadata": {},
     "output_type": "execute_result"
    }
   ],
   "source": [
    "result: dict = kendra_client.query(\n",
    "    QueryText=query,\n",
    "    IndexId=KENDRA_INDEX,\n",
    "    PageSize=10,\n",
    "    PageNumber=1,\n",
    "    QueryResultTypeFilter=\"QUESTION_ANSWER\",\n",
    ")\n",
    "\n",
    "chunks: list[str] = [\n",
    "    (\n",
    "        retrieve_result[\"DocumentExcerpt\"][\"Text\"],\n",
    "        retrieve_result['AdditionalAttributes'][0]['Value']['TextWithHighlightsValue']['Text'],\n",
    "        retrieve_result['DocumentURI']\n",
    "    )\n",
    "    for retrieve_result in result[\"ResultItems\"]\n",
    "    if retrieve_result[\"Type\"] in [\"QUESTION_ANSWER\"]\n",
    "]\n",
    "chunks"
   ]
  },
  {
   "cell_type": "code",
   "execution_count": 50,
   "metadata": {},
   "outputs": [
    {
     "name": "stdout",
     "output_type": "stream",
     "text": [
      "Question: what was liam neeson's character in star wars?\n",
      "Answer: ['Qui-Gon Jinn']\n",
      "URL: https://wqr001053.co.jp\n",
      "Question: what character did natalie portman play in star wars?\n",
      "Answer: ['Padmé Amidala']\n",
      "URL: https://wqr000001.co.jp\n",
      "Question: who did the voice of darth vader in star wars?\n",
      "Answer: ['James Earl Jones']\n",
      "URL: https://wqr001305.co.jp\n",
      "Question: who played princess leia from star wars?\n",
      "Answer: ['Carrie Fisher']\n",
      "URL: https://wqr001181.co.jp\n"
     ]
    }
   ],
   "source": [
    "for r in result['ResultItems']:\n",
    "    if r['Type'] == 'QUESTION_ANSWER':\n",
    "        answer = r['DocumentExcerpt']['Text']\n",
    "        question = r['AdditionalAttributes'][0]['Value']['TextWithHighlightsValue']['Text']\n",
    "        url = r['DocumentURI']\n",
    "        print(f\"Question: {question}\")\n",
    "        print(f\"Answer: {answer}\")\n",
    "        print(f\"URL: {url}\")"
   ]
  },
  {
   "cell_type": "code",
   "execution_count": 51,
   "metadata": {},
   "outputs": [
    {
     "name": "stdout",
     "output_type": "stream",
     "text": [
      "{'Id': 'ff4caf74-5308-41f8-b840-824ca8319086-5acec553-aea0-48bb-9b9e-af5ddc3d88fa', 'Type': 'QUESTION_ANSWER', 'Format': 'TEXT', 'AdditionalAttributes': [{'Key': 'QuestionText', 'ValueType': 'TEXT_WITH_HIGHLIGHTS_VALUE', 'Value': {'TextWithHighlightsValue': {'Text': \"what was liam neeson's character in star wars?\", 'Highlights': [{'BeginOffset': 23, 'EndOffset': 32, 'TopAnswer': False, 'Type': 'STANDARD'}, {'BeginOffset': 36, 'EndOffset': 40, 'TopAnswer': False, 'Type': 'STANDARD'}, {'BeginOffset': 41, 'EndOffset': 45, 'TopAnswer': False, 'Type': 'STANDARD'}]}}}, {'Key': 'AnswerText', 'ValueType': 'TEXT_WITH_HIGHLIGHTS_VALUE', 'Value': {'TextWithHighlightsValue': {'Text': \"['Qui-Gon Jinn']\", 'Highlights': []}}}], 'DocumentId': 'cef5f603eb9154ada5e97aa2b589214c493db718d1fa70274ff4014b71b4131c43440d99-e5e9-4c33-b28e-391090f846dd', 'DocumentTitle': {'Text': ''}, 'DocumentExcerpt': {'Text': \"['Qui-Gon Jinn']\", 'Highlights': [{'BeginOffset': 0, 'EndOffset': 16, 'TopAnswer': False, 'Type': 'STANDARD'}]}, 'DocumentURI': 'https://wqr001053.co.jp', 'DocumentAttributes': [{'Key': '_source_uri', 'Value': {'StringValue': 'https://wqr001053.co.jp'}}], 'ScoreAttributes': {'ScoreConfidence': 'MEDIUM'}, 'FeedbackToken': 'AYADeHGN4TqhmPtgozlToUR8ct4AXwABABVhd3MtY3J5cHRvLXB1YmxpYy1rZXkAREErSHlzQnZRMWdEU0xObXBmTzVKWUZMQnJQbm50U3I3TE5UbERIb2NXVlpKaTViTk1GdFNHOTFkeFZtVnpUd0Zpdz09AAEAB2F3cy1rbXMAUGFybjphd3M6a21zOmFwLXNvdXRoZWFzdC0yOjg2MjY2NjkxMjQwMDprZXkvZDE5OTQ4MTctYWJhMS00MWQ3LTgyM2ItNDQ4ZjI4MWQ5MTAwALgBAgEAeK_0kr7Qo7lDoDWCpwRLPPEa8mLHrTRK30D-Gnalf_j5AWC5sxomJTsZVLXeAZOGqi8AAAB-MHwGCSqGSIb3DQEHBqBvMG0CAQAwaAYJKoZIhvcNAQcBMB4GCWCGSAFlAwQBLjARBAyyu7fMFEPKoxKBHBECARCAOwKRdaP0deSmBIDiidGLtvLEryJtswTRnOXynnRImQsTg1iViGMNHVoS-hEq-SbUOoy9wQmSei337RU1AgAAAAAMAAAQAAAAAAAAAAAAAAAAAPwGqnCwYzlC9tlFnYy2CyX_____AAAAAQAAAAAAAAAAAAAAAQAAAXYKR0BYCP-d0tloGk9Pyvm5DIJfMMmL9UUpw82xP14tJT2jjUzKaMuITdsZLHNsKMAbX9ckvjKQ99lzfyCqr5qmecdBYznETe0kS_cnseEBEuHeNxIJnDxRYapNbg4w5DU_jZjqMyK605Si0wZXdsx9oEta0OgjSXKSEhYTh4gJD1DUcJ3UeFPJgpZf2_RXy8XujLuR6zL_2MBf_kAf9z7AehPuRB9c1wutC_Elq80_DMj8f9W9S87g4EDQoIJ2GhLUac60wcuW5Gts2gzz7btwn5HsnKGN0Csqy8LsUDEH_Q6GW4aAmL4ejhOGfkOu5y5JoDLhojuxBNbbe0BOQyBgnjefkw9mG0D0fwY_-fE__YUlggUA-RaWL9J_qjMAdxHZLfr_O5Ps1uJMbvFKxrWI0BbQeTYPsSJ06oJ8jCIvvfjYPJKEZ6A1p7vSZrBupjuGswpoh0aR3RtQILL41thfrremsa8J2pRA2TbUPqejYNCuBv-OlCSuQtjgHY-i8iGZpCCSRUIAZzBlAjAxK1CJEKxg8-knrlDHvYSymjMAca0PeJ5ZEkKIbWycufhRYi4uuuLFfCxT2n9glCcCMQD1jT4dEdj9ZheIGn8hwSqTE2OS07jC5u7mXcrU_7MY8wWu0g4UmxwQiQK4-Oi3TTU=.ff4caf74-5308-41f8-b840-824ca8319086-5acec553-aea0-48bb-9b9e-af5ddc3d88fa'}\n",
      "{'Id': 'ff4caf74-5308-41f8-b840-824ca8319086-285b80fe-a8bb-42a9-8d8f-e4abe1bcdcc8', 'Type': 'QUESTION_ANSWER', 'Format': 'TEXT', 'AdditionalAttributes': [{'Key': 'QuestionText', 'ValueType': 'TEXT_WITH_HIGHLIGHTS_VALUE', 'Value': {'TextWithHighlightsValue': {'Text': 'what character did natalie portman play in star wars?', 'Highlights': [{'BeginOffset': 5, 'EndOffset': 14, 'TopAnswer': False, 'Type': 'STANDARD'}, {'BeginOffset': 43, 'EndOffset': 47, 'TopAnswer': False, 'Type': 'STANDARD'}, {'BeginOffset': 48, 'EndOffset': 52, 'TopAnswer': False, 'Type': 'STANDARD'}]}}}, {'Key': 'AnswerText', 'ValueType': 'TEXT_WITH_HIGHLIGHTS_VALUE', 'Value': {'TextWithHighlightsValue': {'Text': \"['Padmé Amidala']\", 'Highlights': []}}}], 'DocumentId': '233d139c6db6da6ce5cae8614560b91d9408394fdb297463c79c26e6f2913df4864cbeb9-accd-4c75-882d-7949f04a2700', 'DocumentTitle': {'Text': ''}, 'DocumentExcerpt': {'Text': \"['Padmé Amidala']\", 'Highlights': [{'BeginOffset': 0, 'EndOffset': 17, 'TopAnswer': False, 'Type': 'STANDARD'}]}, 'DocumentURI': 'https://wqr000001.co.jp', 'DocumentAttributes': [{'Key': '_source_uri', 'Value': {'StringValue': 'https://wqr000001.co.jp'}}], 'ScoreAttributes': {'ScoreConfidence': 'MEDIUM'}, 'FeedbackToken': 'AYADeHGN4TqhmPtgozlToUR8ct4AXwABABVhd3MtY3J5cHRvLXB1YmxpYy1rZXkAREErSHlzQnZRMWdEU0xObXBmTzVKWUZMQnJQbm50U3I3TE5UbERIb2NXVlpKaTViTk1GdFNHOTFkeFZtVnpUd0Zpdz09AAEAB2F3cy1rbXMAUGFybjphd3M6a21zOmFwLXNvdXRoZWFzdC0yOjg2MjY2NjkxMjQwMDprZXkvZDE5OTQ4MTctYWJhMS00MWQ3LTgyM2ItNDQ4ZjI4MWQ5MTAwALgBAgEAeK_0kr7Qo7lDoDWCpwRLPPEa8mLHrTRK30D-Gnalf_j5AWC5sxomJTsZVLXeAZOGqi8AAAB-MHwGCSqGSIb3DQEHBqBvMG0CAQAwaAYJKoZIhvcNAQcBMB4GCWCGSAFlAwQBLjARBAyyu7fMFEPKoxKBHBECARCAOwKRdaP0deSmBIDiidGLtvLEryJtswTRnOXynnRImQsTg1iViGMNHVoS-hEq-SbUOoy9wQmSei337RU1AgAAAAAMAAAQAAAAAAAAAAAAAAAAAPwGqnCwYzlC9tlFnYy2CyX_____AAAAAQAAAAAAAAAAAAAAAQAAAXYKR0BYCP-d0tloGk9Pyvm5DIJfMMmL9UUpw82xP14tJT2jjUzKaMuITdsZLHNsKMAbX9ckvjKQ99lzfyCqr5qmecdBYznETe0kS_cnseEBEuHeNxIJnDxRYapNbg4w5DU_jZjqMyK605Si0wZXdsx9oEta0OgjSXKSEhYTh4gJD1DUcJ3UeFPJgpZf2_RXy8XujLuR6zL_2MBf_kAf9z7AehPuRB9c1wutC_Elq80_DMj8f9W9S87g4EDQoIJ2GhLUac60wcuW5Gts2gzz7btwn5HsnKGN0Csqy8LsUDEH_Q6GW4aAmL4ejhOGfkOu5y5JoDLhojuxBNbbe0BOQyBgnjefkw9mG0D0fwY_-fE__YUlggUA-RaWL9J_qjMAdxHZLfr_O5Ps1uJMbvFKxrWI0BbQeTYPsSJ06oJ8jCIvvfjYPJKEZ6A1p7vSZrBupjuGswpoh0aR3RtQILL41thfrremsa8J2pRA2TbUPqejYNCuBv-OlCSuQtjgHY-i8iGZpCCSRUIAZzBlAjAxK1CJEKxg8-knrlDHvYSymjMAca0PeJ5ZEkKIbWycufhRYi4uuuLFfCxT2n9glCcCMQD1jT4dEdj9ZheIGn8hwSqTE2OS07jC5u7mXcrU_7MY8wWu0g4UmxwQiQK4-Oi3TTU=.ff4caf74-5308-41f8-b840-824ca8319086-285b80fe-a8bb-42a9-8d8f-e4abe1bcdcc8'}\n",
      "{'Id': 'ff4caf74-5308-41f8-b840-824ca8319086-25808501-b0c0-4e11-919d-1aa02771c6d4', 'Type': 'QUESTION_ANSWER', 'Format': 'TEXT', 'AdditionalAttributes': [{'Key': 'QuestionText', 'ValueType': 'TEXT_WITH_HIGHLIGHTS_VALUE', 'Value': {'TextWithHighlightsValue': {'Text': 'who did the voice of darth vader in star wars?', 'Highlights': [{'BeginOffset': 36, 'EndOffset': 40, 'TopAnswer': False, 'Type': 'STANDARD'}, {'BeginOffset': 41, 'EndOffset': 45, 'TopAnswer': False, 'Type': 'STANDARD'}]}}}, {'Key': 'AnswerText', 'ValueType': 'TEXT_WITH_HIGHLIGHTS_VALUE', 'Value': {'TextWithHighlightsValue': {'Text': \"['James Earl Jones']\", 'Highlights': []}}}], 'DocumentId': 'f6cbecc7abbe2c858cd02ae91d1924c3259d34693d72560fcfd690b18ee29785cf87bc6e-b99b-465e-8ba8-0c3fb8383b55', 'DocumentTitle': {'Text': ''}, 'DocumentExcerpt': {'Text': \"['James Earl Jones']\", 'Highlights': [{'BeginOffset': 0, 'EndOffset': 20, 'TopAnswer': False, 'Type': 'STANDARD'}]}, 'DocumentURI': 'https://wqr001305.co.jp', 'DocumentAttributes': [{'Key': '_source_uri', 'Value': {'StringValue': 'https://wqr001305.co.jp'}}], 'ScoreAttributes': {'ScoreConfidence': 'MEDIUM'}, 'FeedbackToken': 'AYADeHGN4TqhmPtgozlToUR8ct4AXwABABVhd3MtY3J5cHRvLXB1YmxpYy1rZXkAREErSHlzQnZRMWdEU0xObXBmTzVKWUZMQnJQbm50U3I3TE5UbERIb2NXVlpKaTViTk1GdFNHOTFkeFZtVnpUd0Zpdz09AAEAB2F3cy1rbXMAUGFybjphd3M6a21zOmFwLXNvdXRoZWFzdC0yOjg2MjY2NjkxMjQwMDprZXkvZDE5OTQ4MTctYWJhMS00MWQ3LTgyM2ItNDQ4ZjI4MWQ5MTAwALgBAgEAeK_0kr7Qo7lDoDWCpwRLPPEa8mLHrTRK30D-Gnalf_j5AWC5sxomJTsZVLXeAZOGqi8AAAB-MHwGCSqGSIb3DQEHBqBvMG0CAQAwaAYJKoZIhvcNAQcBMB4GCWCGSAFlAwQBLjARBAyyu7fMFEPKoxKBHBECARCAOwKRdaP0deSmBIDiidGLtvLEryJtswTRnOXynnRImQsTg1iViGMNHVoS-hEq-SbUOoy9wQmSei337RU1AgAAAAAMAAAQAAAAAAAAAAAAAAAAAPwGqnCwYzlC9tlFnYy2CyX_____AAAAAQAAAAAAAAAAAAAAAQAAAXYKR0BYCP-d0tloGk9Pyvm5DIJfMMmL9UUpw82xP14tJT2jjUzKaMuITdsZLHNsKMAbX9ckvjKQ99lzfyCqr5qmecdBYznETe0kS_cnseEBEuHeNxIJnDxRYapNbg4w5DU_jZjqMyK605Si0wZXdsx9oEta0OgjSXKSEhYTh4gJD1DUcJ3UeFPJgpZf2_RXy8XujLuR6zL_2MBf_kAf9z7AehPuRB9c1wutC_Elq80_DMj8f9W9S87g4EDQoIJ2GhLUac60wcuW5Gts2gzz7btwn5HsnKGN0Csqy8LsUDEH_Q6GW4aAmL4ejhOGfkOu5y5JoDLhojuxBNbbe0BOQyBgnjefkw9mG0D0fwY_-fE__YUlggUA-RaWL9J_qjMAdxHZLfr_O5Ps1uJMbvFKxrWI0BbQeTYPsSJ06oJ8jCIvvfjYPJKEZ6A1p7vSZrBupjuGswpoh0aR3RtQILL41thfrremsa8J2pRA2TbUPqejYNCuBv-OlCSuQtjgHY-i8iGZpCCSRUIAZzBlAjAxK1CJEKxg8-knrlDHvYSymjMAca0PeJ5ZEkKIbWycufhRYi4uuuLFfCxT2n9glCcCMQD1jT4dEdj9ZheIGn8hwSqTE2OS07jC5u7mXcrU_7MY8wWu0g4UmxwQiQK4-Oi3TTU=.ff4caf74-5308-41f8-b840-824ca8319086-25808501-b0c0-4e11-919d-1aa02771c6d4'}\n",
      "{'Id': 'ff4caf74-5308-41f8-b840-824ca8319086-9164b9c0-6a46-45ab-a017-64d602481bf6', 'Type': 'QUESTION_ANSWER', 'Format': 'TEXT', 'AdditionalAttributes': [{'Key': 'QuestionText', 'ValueType': 'TEXT_WITH_HIGHLIGHTS_VALUE', 'Value': {'TextWithHighlightsValue': {'Text': 'who played princess leia from star wars?', 'Highlights': [{'BeginOffset': 30, 'EndOffset': 34, 'TopAnswer': False, 'Type': 'STANDARD'}, {'BeginOffset': 35, 'EndOffset': 39, 'TopAnswer': False, 'Type': 'STANDARD'}]}}}, {'Key': 'AnswerText', 'ValueType': 'TEXT_WITH_HIGHLIGHTS_VALUE', 'Value': {'TextWithHighlightsValue': {'Text': \"['Carrie Fisher']\", 'Highlights': []}}}], 'DocumentId': '9842475a74d00c37f58960061dd668897297d672725caa83d81f1ac19c1ac7f07285605f-8e93-4762-a6e4-207855d37e6e', 'DocumentTitle': {'Text': ''}, 'DocumentExcerpt': {'Text': \"['Carrie Fisher']\", 'Highlights': [{'BeginOffset': 0, 'EndOffset': 17, 'TopAnswer': False, 'Type': 'STANDARD'}]}, 'DocumentURI': 'https://wqr001181.co.jp', 'DocumentAttributes': [{'Key': '_source_uri', 'Value': {'StringValue': 'https://wqr001181.co.jp'}}], 'ScoreAttributes': {'ScoreConfidence': 'MEDIUM'}, 'FeedbackToken': 'AYADeHGN4TqhmPtgozlToUR8ct4AXwABABVhd3MtY3J5cHRvLXB1YmxpYy1rZXkAREErSHlzQnZRMWdEU0xObXBmTzVKWUZMQnJQbm50U3I3TE5UbERIb2NXVlpKaTViTk1GdFNHOTFkeFZtVnpUd0Zpdz09AAEAB2F3cy1rbXMAUGFybjphd3M6a21zOmFwLXNvdXRoZWFzdC0yOjg2MjY2NjkxMjQwMDprZXkvZDE5OTQ4MTctYWJhMS00MWQ3LTgyM2ItNDQ4ZjI4MWQ5MTAwALgBAgEAeK_0kr7Qo7lDoDWCpwRLPPEa8mLHrTRK30D-Gnalf_j5AWC5sxomJTsZVLXeAZOGqi8AAAB-MHwGCSqGSIb3DQEHBqBvMG0CAQAwaAYJKoZIhvcNAQcBMB4GCWCGSAFlAwQBLjARBAyyu7fMFEPKoxKBHBECARCAOwKRdaP0deSmBIDiidGLtvLEryJtswTRnOXynnRImQsTg1iViGMNHVoS-hEq-SbUOoy9wQmSei337RU1AgAAAAAMAAAQAAAAAAAAAAAAAAAAAPwGqnCwYzlC9tlFnYy2CyX_____AAAAAQAAAAAAAAAAAAAAAQAAAXYKR0BYCP-d0tloGk9Pyvm5DIJfMMmL9UUpw82xP14tJT2jjUzKaMuITdsZLHNsKMAbX9ckvjKQ99lzfyCqr5qmecdBYznETe0kS_cnseEBEuHeNxIJnDxRYapNbg4w5DU_jZjqMyK605Si0wZXdsx9oEta0OgjSXKSEhYTh4gJD1DUcJ3UeFPJgpZf2_RXy8XujLuR6zL_2MBf_kAf9z7AehPuRB9c1wutC_Elq80_DMj8f9W9S87g4EDQoIJ2GhLUac60wcuW5Gts2gzz7btwn5HsnKGN0Csqy8LsUDEH_Q6GW4aAmL4ejhOGfkOu5y5JoDLhojuxBNbbe0BOQyBgnjefkw9mG0D0fwY_-fE__YUlggUA-RaWL9J_qjMAdxHZLfr_O5Ps1uJMbvFKxrWI0BbQeTYPsSJ06oJ8jCIvvfjYPJKEZ6A1p7vSZrBupjuGswpoh0aR3RtQILL41thfrremsa8J2pRA2TbUPqejYNCuBv-OlCSuQtjgHY-i8iGZpCCSRUIAZzBlAjAxK1CJEKxg8-knrlDHvYSymjMAca0PeJ5ZEkKIbWycufhRYi4uuuLFfCxT2n9glCcCMQD1jT4dEdj9ZheIGn8hwSqTE2OS07jC5u7mXcrU_7MY8wWu0g4UmxwQiQK4-Oi3TTU=.ff4caf74-5308-41f8-b840-824ca8319086-9164b9c0-6a46-45ab-a017-64d602481bf6'}\n"
     ]
    }
   ],
   "source": [
    "for r in result['ResultItems']:\n",
    "    if r['Type'] == 'QUESTION_ANSWER':\n",
    "        print(r)"
   ]
  },
  {
   "cell_type": "code",
   "execution_count": null,
   "metadata": {},
   "outputs": [],
   "source": []
  },
  {
   "cell_type": "code",
   "execution_count": 52,
   "metadata": {},
   "outputs": [
    {
     "data": {
      "text/plain": [
       "True"
      ]
     },
     "execution_count": 52,
     "metadata": {},
     "output_type": "execute_result"
    }
   ],
   "source": [
    "from langchain.chains.qa_with_sources import load_qa_with_sources_chain\n",
    "# from langchain.text_splitter import RecursiveCharacterTextSplitter\n",
    "# from langchain.embeddings.huggingface import HuggingFaceEmbeddings\n",
    "# from langchain_openai import OpenAIEmbeddings\n",
    "from langchain_openai import OpenAI\n",
    "import openai\n",
    "\n",
    "# from langchain.vectorstores.faiss import FAISS\n",
    "import os\n",
    "\n",
    "from dotenv import load_dotenv\n",
    "load_dotenv()\n"
   ]
  },
  {
   "cell_type": "code",
   "execution_count": 53,
   "metadata": {},
   "outputs": [],
   "source": [
    "OPENAI_API_KEY = os.environ.get(\"OPENAI_API_KEY\")\n",
    "qa_model = OpenAI(temperature=0, api_key=OPENAI_API_KEY)\n"
   ]
  },
  {
   "cell_type": "code",
   "execution_count": 54,
   "metadata": {},
   "outputs": [],
   "source": [
    "contexts = chunks\n",
    "\n",
    "prompt = f\"\"\"\n",
    "You are a helpful AI assistant that provides answers. \n",
    "Use the following information <context> tags. \n",
    "If you don't know the answer, just say that you don't know, don't try to make up an answer.\n",
    "<context>\n",
    "{contexts}\n",
    "</context>\n",
    "\"\"\"\n",
    "\n",
    "# prompt = f\"\"\"\n",
    "# Human: You are a financial advisor AI system, and provides answers to questions by using fact based and statistical information when possible. \n",
    "# Use the following pieces of information to provide a concise answer to the question enclosed in <question> tags. \n",
    "# If you don't know the answer, just say that you don't know, don't try to make up an answer.\n",
    "# <context>\n",
    "# {contexts}\n",
    "# </context>\n",
    "\n",
    "# <question>\n",
    "# {query}\n",
    "# </question>\n",
    "\n",
    "# The response should be specific and use statistics or numbers when possible.\n",
    "\n",
    "# Assistant:\"\"\""
   ]
  },
  {
   "cell_type": "code",
   "execution_count": 55,
   "metadata": {},
   "outputs": [],
   "source": [
    "import os\n",
    "from openai import OpenAI\n",
    "\n",
    "client = OpenAI(\n",
    "    # This is the default and can be omitted\n",
    "    api_key=os.environ.get(\"OPENAI_API_KEY\"),\n",
    ")\n",
    "\n",
    "chat_completion = client.chat.completions.create(\n",
    "    messages=[\n",
    "        {\n",
    "            \"role\": \"system\", \"content\": prompt},\n",
    "        {\n",
    "            \"role\": \"user\", \"content\": query,\n",
    "        },\n",
    "    ],\n",
    "    model=\"gpt-4o-mini\",\n",
    ")"
   ]
  },
  {
   "cell_type": "code",
   "execution_count": 56,
   "metadata": {},
   "outputs": [
    {
     "name": "stdout",
     "output_type": "stream",
     "text": [
      "Here are some Star Wars character names:\n",
      "\n",
      "1. Qui-Gon Jinn\n",
      "2. Padmé Amidala\n",
      "3. Darth Vader (voiced by James Earl Jones)\n",
      "4. Princess Leia (played by Carrie Fisher)\n"
     ]
    }
   ],
   "source": [
    "print(chat_completion.choices[0].message.content)"
   ]
  },
  {
   "cell_type": "code",
   "execution_count": 57,
   "metadata": {},
   "outputs": [
    {
     "data": {
      "text/plain": [
       "[(\"['Qui-Gon Jinn']\",\n",
       "  \"what was liam neeson's character in star wars?\",\n",
       "  'https://wqr001053.co.jp'),\n",
       " (\"['Padmé Amidala']\",\n",
       "  'what character did natalie portman play in star wars?',\n",
       "  'https://wqr000001.co.jp'),\n",
       " (\"['James Earl Jones']\",\n",
       "  'who did the voice of darth vader in star wars?',\n",
       "  'https://wqr001305.co.jp'),\n",
       " (\"['Carrie Fisher']\",\n",
       "  'who played princess leia from star wars?',\n",
       "  'https://wqr001181.co.jp')]"
      ]
     },
     "execution_count": 57,
     "metadata": {},
     "output_type": "execute_result"
    }
   ],
   "source": [
    "contexts"
   ]
  },
  {
   "cell_type": "code",
   "execution_count": null,
   "metadata": {},
   "outputs": [],
   "source": [
    "\"\"\"\n",
    "<prompt>\n",
    "  <instructions>Summarize the following text.</instructions>\n",
    "  <context>\n",
    "    <text>\n",
    "      OpenAI's GPT-4 is a state-of-the-art language model that can generate human-like text based on the input it receives. It is used in a variety of applications, from chatbots to content creation.\n",
    "    </text>\n",
    "  </context>\n",
    "  <formatting>Bullet points</formatting>\n",
    "</prompt>\n",
    "\"\"\""
   ]
  }
 ],
 "metadata": {
  "kernelspec": {
   "display_name": "Python 3",
   "language": "python",
   "name": "python3"
  },
  "language_info": {
   "codemirror_mode": {
    "name": "ipython",
    "version": 3
   },
   "file_extension": ".py",
   "mimetype": "text/x-python",
   "name": "python",
   "nbconvert_exporter": "python",
   "pygments_lexer": "ipython3",
   "version": "3.11.9"
  }
 },
 "nbformat": 4,
 "nbformat_minor": 2
}
