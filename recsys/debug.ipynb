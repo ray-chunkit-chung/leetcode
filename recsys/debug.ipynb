{
 "cells": [
  {
   "cell_type": "code",
   "execution_count": 4,
   "metadata": {},
   "outputs": [],
   "source": [
    "import tensorflow as tf"
   ]
  },
  {
   "cell_type": "code",
   "execution_count": 6,
   "metadata": {},
   "outputs": [
    {
     "name": "stdout",
     "output_type": "stream",
     "text": [
      "(10, 64)\n",
      "(10, 64)\n"
     ]
    }
   ],
   "source": [
    "\n",
    "# Create a tensor of shape (10, 64)\n",
    "x = tf.random.normal((10, 64))\n",
    "print(x.shape)  # Outputs: (10, 640)\n",
    "\n",
    "# Flatten the tensor\n",
    "y = tf.keras.layers.Flatten()(x)\n",
    "\n",
    "# Now, y is a tensor of shape (10, 640)\n",
    "print(y.shape)  # Outputs: (10, 640)"
   ]
  },
  {
   "cell_type": "code",
   "execution_count": 19,
   "metadata": {},
   "outputs": [
    {
     "name": "stdout",
     "output_type": "stream",
     "text": [
      "(1000, 10)\n",
      "(1000, 10)\n"
     ]
    }
   ],
   "source": [
    "x = tf.random.normal((1000, 10, 64))\n",
    "y = tf.random.normal((1000, 64))\n",
    "z = tf.keras.layers.Dot(axes=(2, 1), normalize=False)([x, y])\n",
    "print(z.shape)\n",
    "print(tf.keras.layers.Flatten()(z).shape)"
   ]
  },
  {
   "cell_type": "code",
   "execution_count": 21,
   "metadata": {},
   "outputs": [
    {
     "data": {
      "text/plain": [
       "<tf.Tensor: shape=(1000, 10), dtype=float32, numpy=\n",
       "array([[ -6.4345512 ,  -8.844511  ,  -6.2069497 , ...,   8.212338  ,\n",
       "          8.734596  , -11.828163  ],\n",
       "       [ -4.3665857 ,  -4.162572  ,  -6.569385  , ...,  -1.3463559 ,\n",
       "          3.5509882 ,  -5.851683  ],\n",
       "       [  5.0198727 ,  17.07919   ,  -1.1017693 , ...,  -0.8833255 ,\n",
       "         -6.5243683 ,   0.5998483 ],\n",
       "       ...,\n",
       "       [ -8.3718815 ,   2.0880785 ,   0.37690318, ...,   1.7241406 ,\n",
       "          0.30349278,  -3.9228303 ],\n",
       "       [ -5.4843106 ,   1.028934  ,   9.827321  , ...,  -0.3228767 ,\n",
       "         -4.217242  ,  -9.198015  ],\n",
       "       [ -7.1979985 ,   4.2178707 , -15.283056  , ...,   7.2867126 ,\n",
       "         11.893151  ,  -0.18776894]], dtype=float32)>"
      ]
     },
     "execution_count": 21,
     "metadata": {},
     "output_type": "execute_result"
    }
   ],
   "source": [
    "tf.keras.layers.Flatten()(z)"
   ]
  },
  {
   "cell_type": "code",
   "execution_count": 16,
   "metadata": {},
   "outputs": [
    {
     "data": {
      "text/plain": [
       "(None, 1, 10, 64)"
      ]
     },
     "execution_count": 16,
     "metadata": {},
     "output_type": "execute_result"
    }
   ],
   "source": [
    "model = tf.keras.Sequential()\n",
    "model.add(tf.keras.layers.Conv2D(64, 3, 3, input_shape=(3, 32, 32)))\n",
    "model.output_shape\n"
   ]
  },
  {
   "cell_type": "code",
   "execution_count": 18,
   "metadata": {},
   "outputs": [
    {
     "data": {
      "text/plain": [
       "(None, 640)"
      ]
     },
     "execution_count": 18,
     "metadata": {},
     "output_type": "execute_result"
    }
   ],
   "source": [
    "model.add(tf.keras.layers.Flatten())\n",
    "model.output_shape"
   ]
  },
  {
   "cell_type": "code",
   "execution_count": 35,
   "metadata": {},
   "outputs": [
    {
     "name": "stdout",
     "output_type": "stream",
     "text": [
      "[(None, 1), (None, 1)]\n",
      "(None, 1)\n",
      "(None, 1)\n",
      "(None, 1, 32)\n",
      "(None, 1, 32)\n",
      "(None, 1, 1)\n",
      "(None, 1)\n",
      "(None, 1)\n",
      "(None, 1, 64)\n",
      "(None, 1, 32)\n",
      "(None, 1, 1)\n",
      "(None, 1)\n"
     ]
    }
   ],
   "source": [
    "from tensorflow.keras.layers import (\n",
    "    Input,\n",
    "    IntegerLookup,\n",
    "    Embedding,\n",
    "    Flatten,\n",
    "    Dot,\n",
    "    Dense,\n",
    "    Concatenate,\n",
    ")\n",
    "from tensorflow.keras.models import Model\n",
    "from tensorflow.keras.callbacks import EarlyStopping, ModelCheckpoint\n",
    "\n",
    "# Unique users and movies\n",
    "all_users = [1,2,3,4,5,6,7,8]\n",
    "all_movies = [11,12,13,14,15,16,17,18]\n",
    "\n",
    "# Create user and movie input layers\n",
    "user_input = Input(shape=(1,), name=\"user_input\")\n",
    "movie_input = Input(shape=(1,), name=\"movie_input\")\n",
    "\n",
    "# Create user and movie IntegerLookup\n",
    "user_as_integer = IntegerLookup(vocabulary=all_users)(user_input)\n",
    "movie_as_integer = IntegerLookup(vocabulary=all_movies)(movie_input)\n",
    "\n",
    "# Create user and movie embeddings\n",
    "user_embedding = Embedding(input_dim=len(all_users) + 1, output_dim=32)(user_as_integer)\n",
    "movie_embedding = Embedding(input_dim=len(all_movies) + 1, output_dim=32)(\n",
    "    movie_as_integer\n",
    ")\n",
    "\n",
    "# Model1: dot product of user and movie embeddings\n",
    "dot_product = Dot(axes=2)([user_embedding, movie_embedding])\n",
    "flatten = Flatten()(dot_product)\n",
    "model = Model(inputs=[user_input, movie_input], outputs=flatten)\n",
    "\n",
    "# Model2: dense product of user and movie embeddings\n",
    "concatted = Concatenate(axis=2)([user_embedding, movie_embedding])\n",
    "dense1 = Dense(32, activation='relu')(concatted)\n",
    "dense2 = Dense(1, activation='linear')(dense1)\n",
    "flatten2 = Flatten()(dense2)\n",
    "\n",
    "print(model.input_shape)\n",
    "print(user_as_integer.shape)\n",
    "print(movie_as_integer.shape)\n",
    "print(user_embedding.shape)\n",
    "print(movie_embedding.shape)\n",
    "print(dot_product.shape)\n",
    "print(flatten.shape)\n",
    "print(model.output_shape)\n",
    "\n",
    "print(concatted.shape)\n",
    "print(dense1.shape)\n",
    "print(dense2.shape)\n",
    "print(flatten2.shape)"
   ]
  },
  {
   "cell_type": "code",
   "execution_count": null,
   "metadata": {},
   "outputs": [],
   "source": []
  }
 ],
 "metadata": {
  "kernelspec": {
   "display_name": ".venv",
   "language": "python",
   "name": "python3"
  },
  "language_info": {
   "codemirror_mode": {
    "name": "ipython",
    "version": 3
   },
   "file_extension": ".py",
   "mimetype": "text/x-python",
   "name": "python",
   "nbconvert_exporter": "python",
   "pygments_lexer": "ipython3",
   "version": "3.9.2"
  }
 },
 "nbformat": 4,
 "nbformat_minor": 2
}
