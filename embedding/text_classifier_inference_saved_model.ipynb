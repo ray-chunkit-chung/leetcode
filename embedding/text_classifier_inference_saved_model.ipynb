{
 "cells": [
  {
   "cell_type": "code",
   "execution_count": null,
   "metadata": {},
   "outputs": [],
   "source": [
    "import os\n",
    "import torch\n",
    "from transformers import AutoModelForSequenceClassification, AutoTokenizer\n",
    "from azure.storage.blob import BlobServiceClient\n",
    "from dotenv import load_dotenv\n",
    "\n",
    "load_dotenv()"
   ]
  },
  {
   "cell_type": "code",
   "execution_count": null,
   "metadata": {},
   "outputs": [],
   "source": [
    "CONNECTION_STRING = os.getenv('AZURE_STORAGE_CONNECTION_STRING')\n",
    "CACHE_DIR = os.getenv(\"HF_HOME\")\n",
    "\n"
   ]
  },
  {
   "cell_type": "markdown",
   "metadata": {},
   "source": [
    "# Load model from blob storage"
   ]
  },
  {
   "cell_type": "code",
   "execution_count": null,
   "metadata": {},
   "outputs": [],
   "source": [
    "blob_service_client = BlobServiceClient.from_connection_string(CONNECTION_STRING)\n",
    "\n",
    "print(\"\\nDownloading blobs...\")\n",
    "container_client = blob_service_client.get_container_client(\"models\")\n",
    "\n",
    "# List the blobs in the container\n",
    "blob_list = container_client.list_blobs()\n",
    "for blob in blob_list:\n",
    "    print(\"\\t\" + blob.name)\n",
    "    download_file_path = os.path.join(CACHE_DIR, blob.name)\n",
    "    os.makedirs(os.path.dirname(download_file_path), exist_ok=True)\n",
    "    with open(download_file_path, mode=\"wb\") as f:\n",
    "        f.write(container_client.download_blob(blob.name).readall())\n",
    "    print(\"success\")\n",
    "    print()"
   ]
  },
  {
   "cell_type": "code",
   "execution_count": null,
   "metadata": {},
   "outputs": [],
   "source": []
  },
  {
   "cell_type": "code",
   "execution_count": null,
   "metadata": {},
   "outputs": [],
   "source": [
    "model_id = \"oshizo/japanese-sexual-moderation-v2\"\n",
    "\n",
    "tokenizer = AutoTokenizer.from_pretrained(model_id, cache_dir=CACHE_DIR)\n",
    "model = AutoModelForSequenceClassification.from_pretrained(\n",
    "    model_id,\n",
    "    problem_type=\"regression\",\n",
    "    cache_dir=CACHE_DIR,\n",
    ")\n",
    "\n"
   ]
  },
  {
   "cell_type": "code",
   "execution_count": null,
   "metadata": {},
   "outputs": [],
   "source": [
    "\n",
    "texts = [\n",
    "    \"富士山は日本で一番高い山です。\",\n",
    "    \"こんなになるまで我慢してたんだ...大変だったね\",\n",
    "    \"俺は倒れる京子に近づき、担ぎ上げようと太ももの下に腕を通す。\",\n",
    "]\n",
    "\n",
    "with torch.no_grad():\n",
    "    encoding = tokenizer(texts, padding=True, max_length=64, return_tensors=\"pt\")\n",
    "    scores = model(**encoding).logits\n",
    "\n",
    "print(scores)\n",
    "\n",
    "# tensor([[-0.0045],\n",
    "#         [ 0.2954],\n",
    "#         [ 0.4391]])"
   ]
  },
  {
   "cell_type": "code",
   "execution_count": null,
   "metadata": {},
   "outputs": [],
   "source": []
  }
 ],
 "metadata": {
  "kernelspec": {
   "display_name": ".venv",
   "language": "python",
   "name": "python3"
  },
  "language_info": {
   "codemirror_mode": {
    "name": "ipython",
    "version": 3
   },
   "file_extension": ".py",
   "mimetype": "text/x-python",
   "name": "python",
   "nbconvert_exporter": "python",
   "pygments_lexer": "ipython3",
   "version": "3.11.9"
  }
 },
 "nbformat": 4,
 "nbformat_minor": 2
}
