{
 "cells": [
  {
   "cell_type": "code",
   "execution_count": 5,
   "metadata": {},
   "outputs": [
    {
     "data": {
      "text/plain": [
       "True"
      ]
     },
     "execution_count": 5,
     "metadata": {},
     "output_type": "execute_result"
    }
   ],
   "source": [
    "import numpy as np\n",
    "import pandas as pd\n",
    "\n",
    "from dotenv import load_dotenv\n",
    "from sklearn.metrics import classification_report\n",
    "from sklearn.linear_model import LogisticRegression\n",
    "from sklearn.model_selection import train_test_split\n",
    "from langchain.embeddings.huggingface import HuggingFaceEmbeddings\n",
    "\n",
    "\n",
    "load_dotenv()"
   ]
  },
  {
   "cell_type": "markdown",
   "metadata": {},
   "source": [
    "# 01 Prepare data\n",
    "\n",
    "- NHK program list text and genres (too few)\n",
    "- MARC-ja (not available)\n",
    "- JCoLA https://github.com/osekilab/JCoLA <-- we are using this"
   ]
  },
  {
   "cell_type": "code",
   "execution_count": null,
   "metadata": {},
   "outputs": [],
   "source": []
  },
  {
   "cell_type": "markdown",
   "metadata": {},
   "source": [
    "# 02 Featrue engineering"
   ]
  },
  {
   "cell_type": "code",
   "execution_count": 2,
   "metadata": {},
   "outputs": [],
   "source": [
    "data_path = \"../local/data/JCoLA-main/data/jcola-v1.0/in_domain_train-v1.0.tsv\"\n",
    "df = pd.read_csv(data_path, sep=\"\\t\")\n",
    "\n",
    "# Text feature extraction\n",
    "model_name = \"oshizo/sbert-jsnli-luke-japanese-base-lite\"\n",
    "# model_name = \"studio-ousia/luke-japanese-base-lite\"\n",
    "encoder = HuggingFaceEmbeddings(model_name=model_name)\n",
    "\n",
    "text_features = [\"sentence\"]\n",
    "\n",
    "for i in text_features:\n",
    "    embeddings = pd.DataFrame(\n",
    "        encoder.embed_documents(df[i]), index=df.index\n",
    "    ).add_prefix(f\"embed_{i}_\")\n",
    "    df = df.join(embeddings, how=\"left\")\n"
   ]
  },
  {
   "cell_type": "code",
   "execution_count": 3,
   "metadata": {},
   "outputs": [
    {
     "data": {
      "text/html": [
       "<div>\n",
       "<style scoped>\n",
       "    .dataframe tbody tr th:only-of-type {\n",
       "        vertical-align: middle;\n",
       "    }\n",
       "\n",
       "    .dataframe tbody tr th {\n",
       "        vertical-align: top;\n",
       "    }\n",
       "\n",
       "    .dataframe thead th {\n",
       "        text-align: right;\n",
       "    }\n",
       "</style>\n",
       "<table border=\"1\" class=\"dataframe\">\n",
       "  <thead>\n",
       "    <tr style=\"text-align: right;\">\n",
       "      <th></th>\n",
       "      <th>embed_sentence_0</th>\n",
       "      <th>embed_sentence_1</th>\n",
       "      <th>embed_sentence_2</th>\n",
       "      <th>embed_sentence_3</th>\n",
       "      <th>embed_sentence_4</th>\n",
       "      <th>embed_sentence_5</th>\n",
       "      <th>embed_sentence_6</th>\n",
       "      <th>embed_sentence_7</th>\n",
       "      <th>embed_sentence_8</th>\n",
       "      <th>embed_sentence_9</th>\n",
       "      <th>...</th>\n",
       "      <th>embed_sentence_759</th>\n",
       "      <th>embed_sentence_760</th>\n",
       "      <th>embed_sentence_761</th>\n",
       "      <th>embed_sentence_762</th>\n",
       "      <th>embed_sentence_763</th>\n",
       "      <th>embed_sentence_764</th>\n",
       "      <th>embed_sentence_765</th>\n",
       "      <th>embed_sentence_766</th>\n",
       "      <th>embed_sentence_767</th>\n",
       "      <th>label</th>\n",
       "    </tr>\n",
       "  </thead>\n",
       "  <tbody>\n",
       "    <tr>\n",
       "      <th>0</th>\n",
       "      <td>0.779722</td>\n",
       "      <td>-0.159863</td>\n",
       "      <td>0.390812</td>\n",
       "      <td>0.163809</td>\n",
       "      <td>0.441645</td>\n",
       "      <td>-0.422382</td>\n",
       "      <td>0.294479</td>\n",
       "      <td>0.004554</td>\n",
       "      <td>-0.151662</td>\n",
       "      <td>0.318913</td>\n",
       "      <td>...</td>\n",
       "      <td>-0.282139</td>\n",
       "      <td>-0.167588</td>\n",
       "      <td>0.326852</td>\n",
       "      <td>-0.147425</td>\n",
       "      <td>0.16059</td>\n",
       "      <td>0.037417</td>\n",
       "      <td>-0.125623</td>\n",
       "      <td>0.472888</td>\n",
       "      <td>-0.110388</td>\n",
       "      <td>1</td>\n",
       "    </tr>\n",
       "  </tbody>\n",
       "</table>\n",
       "<p>1 rows × 769 columns</p>\n",
       "</div>"
      ],
      "text/plain": [
       "   embed_sentence_0  embed_sentence_1  embed_sentence_2  embed_sentence_3  \\\n",
       "0          0.779722         -0.159863          0.390812          0.163809   \n",
       "\n",
       "   embed_sentence_4  embed_sentence_5  embed_sentence_6  embed_sentence_7  \\\n",
       "0          0.441645         -0.422382          0.294479          0.004554   \n",
       "\n",
       "   embed_sentence_8  embed_sentence_9  ...  embed_sentence_759  \\\n",
       "0         -0.151662          0.318913  ...           -0.282139   \n",
       "\n",
       "   embed_sentence_760  embed_sentence_761  embed_sentence_762  \\\n",
       "0           -0.167588            0.326852           -0.147425   \n",
       "\n",
       "   embed_sentence_763  embed_sentence_764  embed_sentence_765  \\\n",
       "0             0.16059            0.037417           -0.125623   \n",
       "\n",
       "   embed_sentence_766  embed_sentence_767  label  \n",
       "0            0.472888           -0.110388      1  \n",
       "\n",
       "[1 rows x 769 columns]"
      ]
     },
     "execution_count": 3,
     "metadata": {},
     "output_type": "execute_result"
    }
   ],
   "source": [
    "# Choose training features\n",
    "training_features = [i for i in df.columns if \"embed_\" in i]\n",
    "target_label = \"label\"\n",
    "df = df[training_features + [target_label]]\n",
    "df.head(1)"
   ]
  },
  {
   "cell_type": "code",
   "execution_count": 6,
   "metadata": {},
   "outputs": [
    {
     "name": "stdout",
     "output_type": "stream",
     "text": [
      "train score  0.8643179765130985\n",
      "test score  0.8229768786127167\n",
      "              precision    recall  f1-score   support\n",
      "\n",
      "           0       0.45      0.18      0.26       236\n",
      "           1       0.85      0.96      0.90      1148\n",
      "\n",
      "    accuracy                           0.82      1384\n",
      "   macro avg       0.65      0.57      0.58      1384\n",
      "weighted avg       0.78      0.82      0.79      1384\n",
      "\n"
     ]
    }
   ],
   "source": [
    "# train classifier by logitic regression\n",
    "\n",
    "X = df[training_features]\n",
    "y = df[target_label]\n",
    "\n",
    "X_train, X_test, y_train, y_test = train_test_split(X, y, test_size=0.2, random_state=42)\n",
    "\n",
    "clf = LogisticRegression(max_iter=1000)\n",
    "clf.fit(X_train, y_train)\n",
    "\n",
    "y_pred = clf.predict(X_test)\n",
    "\n",
    "print(\"train score \", clf.score(X_train, y_train))\n",
    "print(\"test score \", clf.score(X_test, y_test))\n",
    "print(classification_report(y_test, y_pred))\n"
   ]
  }
 ],
 "metadata": {
  "kernelspec": {
   "display_name": ".venv",
   "language": "python",
   "name": "python3"
  },
  "language_info": {
   "codemirror_mode": {
    "name": "ipython",
    "version": 3
   },
   "file_extension": ".py",
   "mimetype": "text/x-python",
   "name": "python",
   "nbconvert_exporter": "python",
   "pygments_lexer": "ipython3",
   "version": "3.11.9"
  }
 },
 "nbformat": 4,
 "nbformat_minor": 2
}
