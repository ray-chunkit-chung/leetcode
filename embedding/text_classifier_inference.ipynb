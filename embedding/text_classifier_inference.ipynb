{
 "cells": [
  {
   "cell_type": "code",
   "execution_count": 1,
   "metadata": {},
   "outputs": [],
   "source": [
    "import torch\n",
    "from transformers import AutoModelForSequenceClassification, AutoTokenizer"
   ]
  },
  {
   "cell_type": "code",
   "execution_count": 4,
   "metadata": {},
   "outputs": [
    {
     "name": "stderr",
     "output_type": "stream",
     "text": [
      "Special tokens have been added in the vocabulary, make sure the associated word embeddings are fine-tuned or trained.\n"
     ]
    }
   ],
   "source": [
    "model_id = \"oshizo/japanese-sexual-moderation-v2\"\n",
    "\n",
    "tokenizer = AutoTokenizer.from_pretrained(model_id)\n",
    "model = AutoModelForSequenceClassification.from_pretrained(\n",
    "    model_id,\n",
    "    problem_type=\"regression\"\n",
    ")\n",
    "\n"
   ]
  },
  {
   "cell_type": "code",
   "execution_count": 14,
   "metadata": {},
   "outputs": [
    {
     "name": "stdout",
     "output_type": "stream",
     "text": [
      "tensor([[-0.0045],\n",
      "        [ 0.2954],\n",
      "        [ 0.4391]])\n"
     ]
    }
   ],
   "source": [
    "\n",
    "texts = [\n",
    "    \"富士山は日本で一番高い山です。\",\n",
    "    \"こんなになるまで我慢してたんだ...大変だったね\",\n",
    "    \"俺は倒れる京子に近づき、担ぎ上げようと太ももの下に腕を通す。\",\n",
    "]\n",
    "\n",
    "with torch.no_grad():\n",
    "    encoding = tokenizer(texts, padding=True, max_length=64, return_tensors=\"pt\")\n",
    "    scores = model(**encoding).logits\n",
    "\n",
    "print(scores)\n",
    "\n",
    "# tensor([[-0.0045],\n",
    "#         [ 0.2954],\n",
    "#         [ 0.4391]])"
   ]
  },
  {
   "cell_type": "code",
   "execution_count": null,
   "metadata": {},
   "outputs": [],
   "source": []
  }
 ],
 "metadata": {
  "kernelspec": {
   "display_name": ".venv",
   "language": "python",
   "name": "python3"
  },
  "language_info": {
   "codemirror_mode": {
    "name": "ipython",
    "version": 3
   },
   "file_extension": ".py",
   "mimetype": "text/x-python",
   "name": "python",
   "nbconvert_exporter": "python",
   "pygments_lexer": "ipython3",
   "version": "3.11.9"
  }
 },
 "nbformat": 4,
 "nbformat_minor": 2
}
