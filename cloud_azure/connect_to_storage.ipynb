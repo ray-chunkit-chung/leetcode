{
 "cells": [
  {
   "cell_type": "code",
   "execution_count": 2,
   "metadata": {},
   "outputs": [
    {
     "data": {
      "text/plain": [
       "True"
      ]
     },
     "execution_count": 2,
     "metadata": {},
     "output_type": "execute_result"
    }
   ],
   "source": [
    "import os, uuid\n",
    "from azure.identity import DefaultAzureCredential\n",
    "from azure.storage.blob import BlobServiceClient, BlobClient, ContainerClient\n",
    "\n",
    "from dotenv import load_dotenv\n",
    "load_dotenv()"
   ]
  },
  {
   "cell_type": "code",
   "execution_count": 4,
   "metadata": {},
   "outputs": [],
   "source": [
    "CONNECTION_STRING = os.getenv('AZURE_STORAGE_CONNECTION_STRING')\n"
   ]
  },
  {
   "cell_type": "markdown",
   "metadata": {},
   "source": [
    "#  Upload a blob "
   ]
  },
  {
   "cell_type": "code",
   "execution_count": 8,
   "metadata": {},
   "outputs": [
    {
     "name": "stdout",
     "output_type": "stream",
     "text": [
      "Azure Blob Storage Python quickstart sample\n",
      "\n",
      "Uploading to Azure Storage as blob:\n",
      "\t068c288d-abd6-4337-b1ed-f1d7b20a22a9.txt\n"
     ]
    }
   ],
   "source": [
    "try:\n",
    "    print(\"Azure Blob Storage Python quickstart sample\")\n",
    "\n",
    "    blob_service_client = BlobServiceClient.from_connection_string(CONNECTION_STRING)\n",
    "    \n",
    "    # Create the container\n",
    "    container_name = str(uuid.uuid4())\n",
    "    container_client = blob_service_client.create_container(container_name)\n",
    "\n",
    "    # Create a file in the local data directory to upload\n",
    "    local_path = \"../local/data\"\n",
    "    os.makedirs(local_path, exist_ok=True)\n",
    "    local_file_name = str(uuid.uuid4()) + \".txt\"\n",
    "    upload_file_path = os.path.join(local_path, local_file_name)\n",
    "    file = open(file=upload_file_path, mode='w')\n",
    "    file.write(\"Hello, World!\")\n",
    "    file.close()\n",
    "\n",
    "    # Create a blob client using the local file name as the name for the blob\n",
    "    print(\"\\nUploading to Azure Storage as blob:\\n\\t\" + local_file_name)\n",
    "    blob_client = blob_service_client.get_blob_client(container=container_name, blob=local_file_name)\n",
    "    with open(file=upload_file_path, mode=\"rb\") as data:\n",
    "        blob_client.upload_blob(data)\n",
    "\n",
    "except Exception as ex:\n",
    "    print('Exception:')\n",
    "    print(ex)"
   ]
  },
  {
   "cell_type": "markdown",
   "metadata": {},
   "source": [
    "# List the blobs in a container"
   ]
  },
  {
   "cell_type": "code",
   "execution_count": 9,
   "metadata": {},
   "outputs": [
    {
     "name": "stdout",
     "output_type": "stream",
     "text": [
      "\n",
      "Listing blobs...\n",
      "\t068c288d-abd6-4337-b1ed-f1d7b20a22a9.txt\n"
     ]
    }
   ],
   "source": [
    "\n",
    "print(\"\\nListing blobs...\")\n",
    "\n",
    "# List the blobs in the container\n",
    "blob_list = container_client.list_blobs()\n",
    "for blob in blob_list:\n",
    "    print(\"\\t\" + blob.name)"
   ]
  },
  {
   "cell_type": "markdown",
   "metadata": {},
   "source": [
    "# Download blobs"
   ]
  },
  {
   "cell_type": "code",
   "execution_count": 10,
   "metadata": {},
   "outputs": [
    {
     "name": "stdout",
     "output_type": "stream",
     "text": [
      "\n",
      "Downloading blob to \n",
      "\t../local/data\\068c288d-abd6-4337-b1ed-f1d7b20a22a9DOWNLOAD.txt\n"
     ]
    }
   ],
   "source": [
    "# Download the blob to a local file\n",
    "# Add 'DOWNLOAD' before the .txt extension so you can see both files in the data directory\n",
    "download_file_path = os.path.join(\n",
    "    local_path, str.replace(local_file_name, \".txt\", \"DOWNLOAD.txt\")\n",
    ")\n",
    "container_client = blob_service_client.get_container_client(container=container_name)\n",
    "print(\"\\nDownloading blob to \\n\\t\" + download_file_path)\n",
    "\n",
    "with open(file=download_file_path, mode=\"wb\") as download_file:\n",
    "    download_file.write(container_client.download_blob(blob.name).readall())"
   ]
  },
  {
   "cell_type": "markdown",
   "metadata": {},
   "source": []
  },
  {
   "cell_type": "markdown",
   "metadata": {},
   "source": [
    "# Delete everything"
   ]
  },
  {
   "cell_type": "code",
   "execution_count": 1,
   "metadata": {},
   "outputs": [
    {
     "name": "stdout",
     "output_type": "stream",
     "text": [
      "\n",
      "Press the Enter key to begin clean up\n",
      "Deleting blob container...\n"
     ]
    },
    {
     "ename": "NameError",
     "evalue": "name 'container_client' is not defined",
     "output_type": "error",
     "traceback": [
      "\u001b[1;31m---------------------------------------------------------------------------\u001b[0m",
      "\u001b[1;31mNameError\u001b[0m                                 Traceback (most recent call last)",
      "Cell \u001b[1;32mIn[1], line 6\u001b[0m\n\u001b[0;32m      3\u001b[0m \u001b[38;5;28minput\u001b[39m()\n\u001b[0;32m      5\u001b[0m \u001b[38;5;28mprint\u001b[39m(\u001b[38;5;124m\"\u001b[39m\u001b[38;5;124mDeleting blob container...\u001b[39m\u001b[38;5;124m\"\u001b[39m)\n\u001b[1;32m----> 6\u001b[0m \u001b[43mcontainer_client\u001b[49m\u001b[38;5;241m.\u001b[39mdelete_container()\n\u001b[0;32m      8\u001b[0m \u001b[38;5;28mprint\u001b[39m(\u001b[38;5;124m\"\u001b[39m\u001b[38;5;124mDeleting the local source and downloaded files...\u001b[39m\u001b[38;5;124m\"\u001b[39m)\n\u001b[0;32m      9\u001b[0m os\u001b[38;5;241m.\u001b[39mremove(upload_file_path)\n",
      "\u001b[1;31mNameError\u001b[0m: name 'container_client' is not defined"
     ]
    }
   ],
   "source": [
    "# Clean up\n",
    "# print(\"\\nPress the Enter key to begin clean up\")\n",
    "# input()\n",
    "\n",
    "print(\"Deleting blob container...\")\n",
    "container_client.delete_container()\n",
    "\n",
    "print(\"Deleting the local source and downloaded files...\")\n",
    "os.remove(upload_file_path)\n",
    "os.remove(download_file_path)\n",
    "os.rmdir(local_path)\n",
    "\n",
    "print(\"Done\")"
   ]
  },
  {
   "cell_type": "code",
   "execution_count": null,
   "metadata": {},
   "outputs": [],
   "source": []
  }
 ],
 "metadata": {
  "kernelspec": {
   "display_name": ".venv",
   "language": "python",
   "name": "python3"
  },
  "language_info": {
   "codemirror_mode": {
    "name": "ipython",
    "version": 3
   },
   "file_extension": ".py",
   "mimetype": "text/x-python",
   "name": "python",
   "nbconvert_exporter": "python",
   "pygments_lexer": "ipython3",
   "version": "3.11.9"
  }
 },
 "nbformat": 4,
 "nbformat_minor": 2
}
